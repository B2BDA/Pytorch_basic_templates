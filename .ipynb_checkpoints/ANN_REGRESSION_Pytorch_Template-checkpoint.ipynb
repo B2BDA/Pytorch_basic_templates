{
 "cells": [
  {
   "cell_type": "code",
   "execution_count": 1,
   "metadata": {},
   "outputs": [],
   "source": [
    "import torch\n",
    "import torch.nn as nn\n",
    "import modin.pandas as pd\n",
    "import numpy as np"
   ]
  },
  {
   "cell_type": "code",
   "execution_count": 2,
   "metadata": {},
   "outputs": [],
   "source": [
    "df = pd.read_csv(r\"D:\\PyTorch for Deep Learning with Python Bootcamp\\1. Course Overview, Installs, and Setup\\PYTORCH_NOTEBOOKS\\Data\\NYCTaxiFares.csv\")"
   ]
  },
  {
   "cell_type": "code",
   "execution_count": 3,
   "metadata": {},
   "outputs": [
    {
     "name": "stdout",
     "output_type": "stream",
     "text": [
      "<class 'modin.pandas.dataframe.DataFrame'>\n",
      "RangeIndex: 120000 entries, 0 to 119999\n",
      "Data columns (total 8 columns):\n",
      " #   Column             Non-Null Count   Dtype  \n",
      "---  -----------------  ---------------  -----  \n",
      " 0   pickup_datetime    120000 non-null  object\n",
      " 1   fare_amount        120000 non-null  float64\n",
      " 2   fare_class         120000 non-null  int64\n",
      " 3   pickup_longitude   120000 non-null  float64\n",
      " 4   pickup_latitude    120000 non-null  float64\n",
      " 5   dropoff_longitude  120000 non-null  float64\n",
      " 6   dropoff_latitude   120000 non-null  float64\n",
      " 7   passenger_count    120000 non-null  int64\n",
      "dtypes: float64(5), int64(2), object(1)\n",
      "memory usage: 7.3 MB\n"
     ]
    },
    {
     "name": "stderr",
     "output_type": "stream",
     "text": [
      "UserWarning: Distributing <class 'int'> object. This may take some time.\n"
     ]
    }
   ],
   "source": [
    "df.info()"
   ]
  },
  {
   "cell_type": "code",
   "execution_count": 4,
   "metadata": {},
   "outputs": [],
   "source": [
    "df['pickup_hour'] = pd.DatetimeIndex(df['pickup_datetime']).hour"
   ]
  },
  {
   "cell_type": "code",
   "execution_count": 5,
   "metadata": {},
   "outputs": [
    {
     "name": "stderr",
     "output_type": "stream",
     "text": [
      "UserWarning: User-defined function verification is still under development in Modin. The function provided is not verified.\n"
     ]
    }
   ],
   "source": [
    "df['AM_or_PM'] = df.apply(lambda x: 'AM' if x['pickup_hour']<12 else 'PM', axis = 1)"
   ]
  },
  {
   "cell_type": "code",
   "execution_count": 6,
   "metadata": {},
   "outputs": [],
   "source": [
    "def haversine_distance(lat1, long1, lat2, long2):\n",
    "    r = 6371\n",
    "    phi1 = np.radians(lat1)\n",
    "    phi2 = np.radians(lat2)\n",
    "    \n",
    "    delta_phi = np.radians(lat2 - lat1)\n",
    "    delta_lambda = np.radians(long2 -long1)\n",
    "    \n",
    "    a = np.sin(delta_phi/2)**2 + np.cos(phi1) * np.cos(phi2) * np.sin(delta_lambda/2)**2\n",
    "    c = 2 * np.arctan2(np.sqrt(a), np.sqrt(1-a))\n",
    "    d = (r * c)\n",
    "    return d"
   ]
  },
  {
   "cell_type": "code",
   "execution_count": 7,
   "metadata": {},
   "outputs": [],
   "source": [
    "df['distance_km'] = list(map(haversine_distance, df['pickup_latitude'], df['pickup_longitude'], df['dropoff_latitude'],df['dropoff_longitude']))"
   ]
  },
  {
   "cell_type": "raw",
   "metadata": {},
   "source": [
    "df.apply(lambda x: haversine_distance(x['pickup_latitude'], x['pickup_longitude'], x['dropoff_latitude'],x['dropoff_longitude']), axis = 1)"
   ]
  },
  {
   "cell_type": "code",
   "execution_count": 8,
   "metadata": {},
   "outputs": [],
   "source": [
    "df['weekday'] = pd.DatetimeIndex(df['pickup_datetime']).weekday # 6 sun 0 mon"
   ]
  },
  {
   "cell_type": "code",
   "execution_count": 9,
   "metadata": {},
   "outputs": [
    {
     "data": {
      "text/html": [
       "<div>\n",
       "<style scoped>\n",
       "    .dataframe tbody tr th:only-of-type {\n",
       "        vertical-align: middle;\n",
       "    }\n",
       "\n",
       "    .dataframe tbody tr th {\n",
       "        vertical-align: top;\n",
       "    }\n",
       "\n",
       "    .dataframe thead th {\n",
       "        text-align: right;\n",
       "    }\n",
       "</style>\n",
       "<table border=\"1\" class=\"dataframe\">\n",
       "  <thead>\n",
       "    <tr style=\"text-align: right;\">\n",
       "      <th></th>\n",
       "      <th>pickup_datetime</th>\n",
       "      <th>fare_amount</th>\n",
       "      <th>fare_class</th>\n",
       "      <th>pickup_longitude</th>\n",
       "      <th>pickup_latitude</th>\n",
       "      <th>dropoff_longitude</th>\n",
       "      <th>dropoff_latitude</th>\n",
       "      <th>passenger_count</th>\n",
       "      <th>pickup_hour</th>\n",
       "      <th>AM_or_PM</th>\n",
       "      <th>distance_km</th>\n",
       "      <th>weekday</th>\n",
       "    </tr>\n",
       "  </thead>\n",
       "  <tbody>\n",
       "    <tr>\n",
       "      <th>0</th>\n",
       "      <td>2010-04-19 08:17:56 UTC</td>\n",
       "      <td>6.5</td>\n",
       "      <td>0</td>\n",
       "      <td>-73.992365</td>\n",
       "      <td>40.730521</td>\n",
       "      <td>-73.975499</td>\n",
       "      <td>40.744746</td>\n",
       "      <td>1</td>\n",
       "      <td>8</td>\n",
       "      <td>AM</td>\n",
       "      <td>2.126312</td>\n",
       "      <td>0</td>\n",
       "    </tr>\n",
       "    <tr>\n",
       "      <th>1</th>\n",
       "      <td>2010-04-17 15:43:53 UTC</td>\n",
       "      <td>6.9</td>\n",
       "      <td>0</td>\n",
       "      <td>-73.990078</td>\n",
       "      <td>40.740558</td>\n",
       "      <td>-73.974232</td>\n",
       "      <td>40.744114</td>\n",
       "      <td>1</td>\n",
       "      <td>15</td>\n",
       "      <td>PM</td>\n",
       "      <td>1.392307</td>\n",
       "      <td>5</td>\n",
       "    </tr>\n",
       "    <tr>\n",
       "      <th>2</th>\n",
       "      <td>2010-04-17 11:23:26 UTC</td>\n",
       "      <td>10.1</td>\n",
       "      <td>1</td>\n",
       "      <td>-73.994149</td>\n",
       "      <td>40.751118</td>\n",
       "      <td>-73.960064</td>\n",
       "      <td>40.766235</td>\n",
       "      <td>2</td>\n",
       "      <td>11</td>\n",
       "      <td>AM</td>\n",
       "      <td>3.326763</td>\n",
       "      <td>5</td>\n",
       "    </tr>\n",
       "    <tr>\n",
       "      <th>3</th>\n",
       "      <td>2010-04-11 21:25:03 UTC</td>\n",
       "      <td>8.9</td>\n",
       "      <td>0</td>\n",
       "      <td>-73.990485</td>\n",
       "      <td>40.756422</td>\n",
       "      <td>-73.971205</td>\n",
       "      <td>40.748192</td>\n",
       "      <td>1</td>\n",
       "      <td>21</td>\n",
       "      <td>PM</td>\n",
       "      <td>1.864129</td>\n",
       "      <td>6</td>\n",
       "    </tr>\n",
       "    <tr>\n",
       "      <th>4</th>\n",
       "      <td>2010-04-17 02:19:01 UTC</td>\n",
       "      <td>19.7</td>\n",
       "      <td>1</td>\n",
       "      <td>-73.990976</td>\n",
       "      <td>40.734202</td>\n",
       "      <td>-73.905956</td>\n",
       "      <td>40.743115</td>\n",
       "      <td>1</td>\n",
       "      <td>2</td>\n",
       "      <td>AM</td>\n",
       "      <td>7.231321</td>\n",
       "      <td>5</td>\n",
       "    </tr>\n",
       "  </tbody>\n",
       "</table>\n",
       "</div>"
      ],
      "text/plain": [
       "           pickup_datetime  fare_amount  fare_class  pickup_longitude  \\\n",
       "0  2010-04-19 08:17:56 UTC          6.5           0        -73.992365   \n",
       "1  2010-04-17 15:43:53 UTC          6.9           0        -73.990078   \n",
       "2  2010-04-17 11:23:26 UTC         10.1           1        -73.994149   \n",
       "3  2010-04-11 21:25:03 UTC          8.9           0        -73.990485   \n",
       "4  2010-04-17 02:19:01 UTC         19.7           1        -73.990976   \n",
       "\n",
       "   pickup_latitude  dropoff_longitude  dropoff_latitude  passenger_count  \\\n",
       "0        40.730521         -73.975499         40.744746                1   \n",
       "1        40.740558         -73.974232         40.744114                1   \n",
       "2        40.751118         -73.960064         40.766235                2   \n",
       "3        40.756422         -73.971205         40.748192                1   \n",
       "4        40.734202         -73.905956         40.743115                1   \n",
       "\n",
       "   pickup_hour AM_or_PM  distance_km  weekday  \n",
       "0            8       AM     2.126312        0  \n",
       "1           15       PM     1.392307        5  \n",
       "2           11       AM     3.326763        5  \n",
       "3           21       PM     1.864129        6  \n",
       "4            2       AM     7.231321        5  "
      ]
     },
     "execution_count": 9,
     "metadata": {},
     "output_type": "execute_result"
    }
   ],
   "source": [
    "df.head()"
   ]
  },
  {
   "cell_type": "code",
   "execution_count": 10,
   "metadata": {},
   "outputs": [],
   "source": [
    "for i in ['pickup_hour','AM_or_PM','weekday']:\n",
    "    df[i] = df[i].astype('category')"
   ]
  },
  {
   "cell_type": "code",
   "execution_count": 11,
   "metadata": {},
   "outputs": [],
   "source": [
    "df = df.drop(columns=['pickup_datetime','pickup_longitude','pickup_latitude','dropoff_longitude','dropoff_latitude'])"
   ]
  },
  {
   "cell_type": "code",
   "execution_count": 12,
   "metadata": {},
   "outputs": [
    {
     "name": "stdout",
     "output_type": "stream",
     "text": [
      "<class 'modin.pandas.dataframe.DataFrame'>\n",
      "RangeIndex: 120000 entries, 0 to 119999\n",
      "Data columns (total 7 columns):\n",
      " #   Column           Non-Null Count   Dtype   \n",
      "---  ---------------  ---------------  -----   \n",
      " 0   fare_amount      120000 non-null  float64\n",
      " 1   fare_class       120000 non-null  int64\n",
      " 2   passenger_count  120000 non-null  int64\n",
      " 3   pickup_hour      120000 non-null  category\n",
      " 4   AM_or_PM         120000 non-null  category\n",
      " 5   distance_km      120000 non-null  float64\n",
      " 6   weekday          120000 non-null  category\n",
      "dtypes: int64(2), float64(2), category(1), category(1), category(1)\n",
      "memory usage: 4.0 MB\n"
     ]
    },
    {
     "name": "stderr",
     "output_type": "stream",
     "text": [
      "UserWarning: Distributing <class 'int'> object. This may take some time.\n"
     ]
    }
   ],
   "source": [
    "df.info()"
   ]
  },
  {
   "cell_type": "code",
   "execution_count": 13,
   "metadata": {},
   "outputs": [
    {
     "name": "stderr",
     "output_type": "stream",
     "text": [
      "UserWarning: `Series.CategoricalAccessor` defaulting to pandas implementation.\n",
      "To request implementation, send an email to feature_requests@modin.org.\n"
     ]
    },
    {
     "data": {
      "text/plain": [
       "Index(['AM', 'PM'], dtype='object')"
      ]
     },
     "execution_count": 13,
     "metadata": {},
     "output_type": "execute_result"
    }
   ],
   "source": [
    "df['AM_or_PM'].cat.categories"
   ]
  },
  {
   "cell_type": "code",
   "execution_count": 14,
   "metadata": {},
   "outputs": [
    {
     "name": "stderr",
     "output_type": "stream",
     "text": [
      "UserWarning: <lambda> defaulting to pandas implementation.\n"
     ]
    },
    {
     "data": {
      "text/plain": [
       "0         0\n",
       "1         5\n",
       "2         5\n",
       "3         6\n",
       "4         5\n",
       "         ..\n",
       "119995    6\n",
       "119996    4\n",
       "119997    6\n",
       "119998    1\n",
       "119999    5\n",
       "Length: 120000, dtype: int8"
      ]
     },
     "execution_count": 14,
     "metadata": {},
     "output_type": "execute_result"
    }
   ],
   "source": [
    "df['weekday'].cat.codes"
   ]
  },
  {
   "cell_type": "raw",
   "metadata": {},
   "source": [
    "hour = df['pickup_hour'].cat.codes.values\n",
    "weekday = df['weekday'].cat.codes.values\n",
    "ampm = df['AM_or_PM'].cat.codes.values"
   ]
  },
  {
   "cell_type": "code",
   "execution_count": 15,
   "metadata": {},
   "outputs": [
    {
     "name": "stderr",
     "output_type": "stream",
     "text": [
      "UserWarning: <lambda> defaulting to pandas implementation.\n"
     ]
    }
   ],
   "source": [
    "cat_c = np.stack([df[i].cat.codes.values for i in ['pickup_hour','AM_or_PM','weekday']], axis = 1)"
   ]
  },
  {
   "cell_type": "code",
   "execution_count": 16,
   "metadata": {},
   "outputs": [],
   "source": [
    "conc_c = np.stack([df[i].values for i in ['fare_class','passenger_count','distance_km']], axis = 1)"
   ]
  },
  {
   "cell_type": "code",
   "execution_count": 17,
   "metadata": {},
   "outputs": [],
   "source": [
    "cat_c = torch.tensor(cat_c, dtype =torch.int64 )\n",
    "conc_c = torch.tensor(conc_c, dtype =torch.float )\n",
    "y = torch.tensor(df['fare_amount'].values, dtype = torch.float).reshape(-1,1)"
   ]
  },
  {
   "cell_type": "code",
   "execution_count": 18,
   "metadata": {},
   "outputs": [
    {
     "data": {
      "text/plain": [
       "tensor([[ 6.5000],\n",
       "        [ 6.9000],\n",
       "        [10.1000],\n",
       "        ...,\n",
       "        [12.5000],\n",
       "        [ 4.9000],\n",
       "        [ 5.3000]])"
      ]
     },
     "execution_count": 18,
     "metadata": {},
     "output_type": "execute_result"
    }
   ],
   "source": [
    "y"
   ]
  },
  {
   "cell_type": "code",
   "execution_count": 19,
   "metadata": {},
   "outputs": [
    {
     "data": {
      "text/plain": [
       "torch.Size([120000, 3])"
      ]
     },
     "execution_count": 19,
     "metadata": {},
     "output_type": "execute_result"
    }
   ],
   "source": [
    "conc_c.shape"
   ]
  },
  {
   "cell_type": "markdown",
   "metadata": {},
   "source": [
    "# Now One hot encode using torch embedding which is a lookup table containg key value pair where key is the category and value is the vector of dim n"
   ]
  },
  {
   "cell_type": "code",
   "execution_count": 20,
   "metadata": {},
   "outputs": [
    {
     "name": "stderr",
     "output_type": "stream",
     "text": [
      "UserWarning: `Series.CategoricalAccessor` defaulting to pandas implementation.\n"
     ]
    }
   ],
   "source": [
    "cat_size = [len(df[i].cat.categories) for i in ['pickup_hour','AM_or_PM','weekday']]"
   ]
  },
  {
   "cell_type": "code",
   "execution_count": 21,
   "metadata": {},
   "outputs": [
    {
     "data": {
      "text/plain": [
       "4"
      ]
     },
     "execution_count": 21,
     "metadata": {},
     "output_type": "execute_result"
    }
   ],
   "source": [
    "9//2"
   ]
  },
  {
   "cell_type": "code",
   "execution_count": 22,
   "metadata": {},
   "outputs": [
    {
     "data": {
      "text/plain": [
       "4.5"
      ]
     },
     "execution_count": 22,
     "metadata": {},
     "output_type": "execute_result"
    }
   ],
   "source": [
    "9/2"
   ]
  },
  {
   "cell_type": "code",
   "execution_count": 23,
   "metadata": {},
   "outputs": [],
   "source": [
    "embed_size = [(size, min(50, (size+1)//2)) for size in cat_size] # // rounds down 50 because we want vector of size 50 or less"
   ]
  },
  {
   "cell_type": "code",
   "execution_count": 24,
   "metadata": {},
   "outputs": [
    {
     "data": {
      "text/plain": [
       "[(24, 12), (2, 1), (7, 4)]"
      ]
     },
     "execution_count": 24,
     "metadata": {},
     "output_type": "execute_result"
    }
   ],
   "source": [
    "embed_size"
   ]
  },
  {
   "cell_type": "code",
   "execution_count": 25,
   "metadata": {},
   "outputs": [],
   "source": [
    "selfembed = nn.ModuleList([nn.Embedding(ni,nf) for ni,nf in embed_size])"
   ]
  },
  {
   "cell_type": "code",
   "execution_count": 26,
   "metadata": {},
   "outputs": [
    {
     "data": {
      "text/plain": [
       "tensor([2, 0, 5])"
      ]
     },
     "execution_count": 26,
     "metadata": {},
     "output_type": "execute_result"
    }
   ],
   "source": [
    "cat_c[4]"
   ]
  },
  {
   "cell_type": "code",
   "execution_count": 27,
   "metadata": {},
   "outputs": [
    {
     "data": {
      "text/plain": [
       "tensor([[2, 1, 2]])"
      ]
     },
     "execution_count": 27,
     "metadata": {},
     "output_type": "execute_result"
    }
   ],
   "source": [
    "test_cat_c = torch.tensor([[2,1,2]])\n",
    "test_cat_c"
   ]
  },
  {
   "cell_type": "code",
   "execution_count": 28,
   "metadata": {},
   "outputs": [],
   "source": [
    "embedding = []\n",
    "for i,e in enumerate(selfembed):\n",
    "    embedding.append(e(test_cat_c[:,i]))"
   ]
  },
  {
   "cell_type": "code",
   "execution_count": 29,
   "metadata": {},
   "outputs": [
    {
     "data": {
      "text/plain": [
       "[tensor([[ 1.6735,  0.2573, -0.3181, -0.1085, -1.3318, -2.3106,  0.8655, -1.7698,\n",
       "           0.6201,  0.0875, -0.4120, -1.7357]], grad_fn=<EmbeddingBackward>),\n",
       " tensor([[1.4280]], grad_fn=<EmbeddingBackward>),\n",
       " tensor([[ 1.0426, -0.0650, -2.1356, -0.1983]], grad_fn=<EmbeddingBackward>)]"
      ]
     },
     "execution_count": 29,
     "metadata": {},
     "output_type": "execute_result"
    }
   ],
   "source": [
    "embedding"
   ]
  },
  {
   "cell_type": "code",
   "execution_count": 30,
   "metadata": {},
   "outputs": [
    {
     "data": {
      "text/plain": [
       "[tensor([ 1.6735,  0.2573, -0.3181, -0.1085, -1.3318, -2.3106,  0.8655, -1.7698,\n",
       "          0.6201,  0.0875, -0.4120, -1.7357], grad_fn=<EmbeddingBackward>),\n",
       " tensor([-0.5656], grad_fn=<EmbeddingBackward>),\n",
       " tensor([-0.8459,  0.6071,  2.9163, -0.6494], grad_fn=<EmbeddingBackward>)]"
      ]
     },
     "execution_count": 30,
     "metadata": {},
     "output_type": "execute_result"
    }
   ],
   "source": [
    "embedding = []\n",
    "for i,e in enumerate(selfembed):\n",
    "    embedding.append(e(cat_c[4,i]))\n",
    "embedding"
   ]
  },
  {
   "cell_type": "markdown",
   "metadata": {},
   "source": [
    "# from the above experiment we saw that the vector for 2 remains the same "
   ]
  },
  {
   "cell_type": "code",
   "execution_count": 31,
   "metadata": {},
   "outputs": [
    {
     "data": {
      "text/plain": [
       "tensor([ 1.6735,  0.2573, -0.3181, -0.1085, -1.3318, -2.3106,  0.8655, -1.7698,\n",
       "         0.6201,  0.0875, -0.4120, -1.7357, -0.5656, -0.8459,  0.6071,  2.9163,\n",
       "        -0.6494], grad_fn=<CatBackward>)"
      ]
     },
     "execution_count": 31,
     "metadata": {},
     "output_type": "execute_result"
    }
   ],
   "source": [
    "torch.cat(embedding)"
   ]
  },
  {
   "cell_type": "markdown",
   "metadata": {},
   "source": [
    "# Setting up Tabular model"
   ]
  },
  {
   "cell_type": "code",
   "execution_count": 32,
   "metadata": {},
   "outputs": [],
   "source": [
    "import torch.nn as nn"
   ]
  },
  {
   "cell_type": "code",
   "execution_count": 33,
   "metadata": {},
   "outputs": [],
   "source": [
    "class TabularModel(nn.Module):\n",
    "    \n",
    "    def __init__(self, embed_size, n_cont, n_out, neuron_layer, prob = 0.5):\n",
    "        super().__init__()\n",
    "        self.embed = nn.ModuleList([nn.Embedding(ni,nf) for ni,nf in embed_size])\n",
    "        self.embed_drop = nn.Dropout(prob)\n",
    "        self.batchnorm_cont = nn.BatchNorm1d(n_cont)\n",
    "        \n",
    "        num_embed = sum([nf for ni,nf in embed_size])\n",
    "        n_input = num_embed + n_cont\n",
    "        \n",
    "        layerlist = []\n",
    "        for i in neuron_layer:\n",
    "            layerlist.append(nn.Linear(n_input,i))\n",
    "            layerlist.append(nn.ReLU(inplace=True))\n",
    "            layerlist.append(nn.BatchNorm1d(i))\n",
    "            layerlist.append(nn.Dropout(prob))\n",
    "            n_input = i\n",
    "        layerlist.append(nn.Linear(neuron_layer[-1], n_out))\n",
    "        self.layers = nn.Sequential(*layerlist)\n",
    "        \n",
    "    def forward(self, x_cat, x_cont):\n",
    "        embeddings = []\n",
    "        for i,e in enumerate(self.embed):\n",
    "            embeddings.append(e(x_cat[:,i]))\n",
    "        x = torch.cat(embeddings, axis = 1)\n",
    "        x = self.embed_drop(x)\n",
    "        x_cont = self.batchnorm_cont(x_cont)\n",
    "        x = torch.cat([x,x_cont],axis = 1)\n",
    "        x = self.layers(x)\n",
    "        return x\n",
    "        "
   ]
  },
  {
   "cell_type": "code",
   "execution_count": 34,
   "metadata": {},
   "outputs": [],
   "source": [
    "model = TabularModel(embed_size,conc_c.shape[1],1,[32,64,128])"
   ]
  },
  {
   "cell_type": "code",
   "execution_count": 35,
   "metadata": {},
   "outputs": [],
   "source": [
    "loss_func = nn.MSELoss()\n",
    "optimizer = torch.optim.Adam(model.parameters(),lr = 1e-3)"
   ]
  },
  {
   "cell_type": "code",
   "execution_count": 36,
   "metadata": {},
   "outputs": [],
   "source": [
    "train_size = 60000\n",
    "test_size = int(train_size*0.2)"
   ]
  },
  {
   "cell_type": "code",
   "execution_count": 37,
   "metadata": {},
   "outputs": [],
   "source": [
    "train_cat = cat_c[:train_size-test_size]\n",
    "test_cat = cat_c[train_size-test_size:train_size]\n",
    "train_cont = conc_c[:train_size-test_size]\n",
    "test_cont = conc_c[train_size-test_size:train_size]\n",
    "y_train = y[:train_size-test_size]\n",
    "y_test = y[train_size-test_size:train_size]"
   ]
  },
  {
   "cell_type": "code",
   "execution_count": 38,
   "metadata": {},
   "outputs": [
    {
     "data": {
      "text/plain": [
       "torch.Size([48000, 3])"
      ]
     },
     "execution_count": 38,
     "metadata": {},
     "output_type": "execute_result"
    }
   ],
   "source": [
    "train_cat.shape"
   ]
  },
  {
   "cell_type": "code",
   "execution_count": 40,
   "metadata": {},
   "outputs": [
    {
     "name": "stdout",
     "output_type": "stream",
     "text": [
      "Epoch 10 loss is 12.246439933776855\n",
      "Epoch 20 loss is 11.748432159423828\n",
      "Epoch 30 loss is 11.184530258178711\n",
      "Epoch 40 loss is 10.802921295166016\n",
      "Epoch 50 loss is 10.530203819274902\n",
      "Epoch 60 loss is 10.295490264892578\n",
      "Epoch 70 loss is 10.101095199584961\n",
      "Epoch 80 loss is 9.819140434265137\n",
      "Epoch 90 loss is 9.524518966674805\n",
      "Epoch 100 loss is 9.185430526733398\n",
      "Epoch 110 loss is 8.785958290100098\n",
      "Epoch 120 loss is 8.312644958496094\n",
      "Epoch 130 loss is 7.797293186187744\n",
      "Epoch 140 loss is 7.269660949707031\n",
      "Epoch 150 loss is 6.649996757507324\n",
      "Epoch 160 loss is 6.114395618438721\n",
      "Epoch 170 loss is 5.595784664154053\n",
      "Epoch 180 loss is 5.084903240203857\n",
      "Epoch 190 loss is 4.686479568481445\n",
      "Epoch 200 loss is 4.425530910491943\n",
      "Epoch 210 loss is 4.246530532836914\n",
      "Epoch 220 loss is 4.1729888916015625\n",
      "Epoch 230 loss is 4.099949836730957\n",
      "Epoch 240 loss is 4.0685319900512695\n",
      "Epoch 250 loss is 3.9654102325439453\n",
      "Epoch 260 loss is 3.9484739303588867\n",
      "Epoch 270 loss is 3.8836255073547363\n",
      "Epoch 280 loss is 3.858511447906494\n",
      "Epoch 290 loss is 3.8225629329681396\n",
      "Epoch 300 loss is 3.786087989807129\n"
     ]
    }
   ],
   "source": [
    "\n",
    "\n",
    "epochs = 300\n",
    "losses = []\n",
    "\n",
    "for i in range(epochs):\n",
    "    i = i+1\n",
    "    \n",
    "    y_pred = model(train_cat, train_cont)\n",
    "    loss = torch.sqrt(loss_func(y_pred, y_train))\n",
    "    losses.append(loss)\n",
    "    \n",
    "    if i%10 == 0:\n",
    "        print(f'Epoch {i} loss is {loss}')\n",
    "    optimizer.zero_grad()\n",
    "    loss.backward()\n",
    "    optimizer.step()"
   ]
  },
  {
   "cell_type": "code",
   "execution_count": null,
   "metadata": {},
   "outputs": [],
   "source": []
  }
 ],
 "metadata": {
  "kernelspec": {
   "display_name": "Python 3",
   "language": "python",
   "name": "python3"
  },
  "language_info": {
   "codemirror_mode": {
    "name": "ipython",
    "version": 3
   },
   "file_extension": ".py",
   "mimetype": "text/x-python",
   "name": "python",
   "nbconvert_exporter": "python",
   "pygments_lexer": "ipython3",
   "version": "3.8.5"
  }
 },
 "nbformat": 4,
 "nbformat_minor": 4
}
