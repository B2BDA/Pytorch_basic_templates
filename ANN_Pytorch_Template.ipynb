{
 "cells": [
  {
   "cell_type": "code",
   "execution_count": 1,
   "metadata": {},
   "outputs": [],
   "source": [
    "import torch\n",
    "import numpy as np\n",
    "import matplotlib.pyplot as plt\n",
    "%matplotlib inline"
   ]
  },
  {
   "cell_type": "code",
   "execution_count": 2,
   "metadata": {},
   "outputs": [],
   "source": [
    "import torch.nn as nn"
   ]
  },
  {
   "cell_type": "code",
   "execution_count": 3,
   "metadata": {},
   "outputs": [
    {
     "data": {
      "text/plain": [
       "tensor([[ 1.],\n",
       "        [ 2.],\n",
       "        [ 3.],\n",
       "        [ 4.],\n",
       "        [ 5.],\n",
       "        [ 6.],\n",
       "        [ 7.],\n",
       "        [ 8.],\n",
       "        [ 9.],\n",
       "        [10.],\n",
       "        [11.],\n",
       "        [12.],\n",
       "        [13.],\n",
       "        [14.],\n",
       "        [15.],\n",
       "        [16.],\n",
       "        [17.],\n",
       "        [18.],\n",
       "        [19.],\n",
       "        [20.],\n",
       "        [21.],\n",
       "        [22.],\n",
       "        [23.],\n",
       "        [24.],\n",
       "        [25.],\n",
       "        [26.],\n",
       "        [27.],\n",
       "        [28.],\n",
       "        [29.],\n",
       "        [30.],\n",
       "        [31.],\n",
       "        [32.],\n",
       "        [33.],\n",
       "        [34.],\n",
       "        [35.],\n",
       "        [36.],\n",
       "        [37.],\n",
       "        [38.],\n",
       "        [39.],\n",
       "        [40.],\n",
       "        [41.],\n",
       "        [42.],\n",
       "        [43.],\n",
       "        [44.],\n",
       "        [45.],\n",
       "        [46.],\n",
       "        [47.],\n",
       "        [48.],\n",
       "        [49.],\n",
       "        [50.]])"
      ]
     },
     "execution_count": 3,
     "metadata": {},
     "output_type": "execute_result"
    }
   ],
   "source": [
    "X = torch.linspace(1,50,50).reshape(-1,1)\n",
    "X"
   ]
  },
  {
   "cell_type": "code",
   "execution_count": 4,
   "metadata": {},
   "outputs": [
    {
     "data": {
      "text/plain": [
       "tensor([[ 2.],\n",
       "        [ 7.],\n",
       "        [ 2.],\n",
       "        [ 6.],\n",
       "        [ 2.],\n",
       "        [-4.],\n",
       "        [ 2.],\n",
       "        [-5.],\n",
       "        [ 4.],\n",
       "        [ 1.],\n",
       "        [ 2.],\n",
       "        [ 3.],\n",
       "        [ 1.],\n",
       "        [-8.],\n",
       "        [ 5.],\n",
       "        [ 5.],\n",
       "        [-6.],\n",
       "        [ 0.],\n",
       "        [-7.],\n",
       "        [-8.],\n",
       "        [-3.],\n",
       "        [-1.],\n",
       "        [ 2.],\n",
       "        [-6.],\n",
       "        [-3.],\n",
       "        [ 3.],\n",
       "        [ 2.],\n",
       "        [ 3.],\n",
       "        [ 4.],\n",
       "        [ 5.],\n",
       "        [ 1.],\n",
       "        [ 7.],\n",
       "        [ 6.],\n",
       "        [-1.],\n",
       "        [-6.],\n",
       "        [-5.],\n",
       "        [-3.],\n",
       "        [ 7.],\n",
       "        [ 0.],\n",
       "        [ 8.],\n",
       "        [-1.],\n",
       "        [-2.],\n",
       "        [ 2.],\n",
       "        [-8.],\n",
       "        [-1.],\n",
       "        [ 6.],\n",
       "        [-8.],\n",
       "        [-3.],\n",
       "        [-7.],\n",
       "        [-2.]])"
      ]
     },
     "execution_count": 4,
     "metadata": {},
     "output_type": "execute_result"
    }
   ],
   "source": [
    "torch.manual_seed(71)\n",
    "e = torch.randint(-8,9, (50,1), dtype = torch.float32)\n",
    "e"
   ]
  },
  {
   "cell_type": "code",
   "execution_count": 5,
   "metadata": {},
   "outputs": [
    {
     "data": {
      "text/plain": [
       "tensor([[ 5.],\n",
       "        [12.],\n",
       "        [ 9.],\n",
       "        [15.],\n",
       "        [13.],\n",
       "        [ 9.],\n",
       "        [17.],\n",
       "        [12.],\n",
       "        [23.],\n",
       "        [22.],\n",
       "        [25.],\n",
       "        [28.],\n",
       "        [28.],\n",
       "        [21.],\n",
       "        [36.],\n",
       "        [38.],\n",
       "        [29.],\n",
       "        [37.],\n",
       "        [32.],\n",
       "        [33.],\n",
       "        [40.],\n",
       "        [44.],\n",
       "        [49.],\n",
       "        [43.],\n",
       "        [48.],\n",
       "        [56.],\n",
       "        [57.],\n",
       "        [60.],\n",
       "        [63.],\n",
       "        [66.],\n",
       "        [64.],\n",
       "        [72.],\n",
       "        [73.],\n",
       "        [68.],\n",
       "        [65.],\n",
       "        [68.],\n",
       "        [72.],\n",
       "        [84.],\n",
       "        [79.],\n",
       "        [89.],\n",
       "        [82.],\n",
       "        [83.],\n",
       "        [89.],\n",
       "        [81.],\n",
       "        [90.],\n",
       "        [99.],\n",
       "        [87.],\n",
       "        [94.],\n",
       "        [92.],\n",
       "        [99.]])"
      ]
     },
     "execution_count": 5,
     "metadata": {},
     "output_type": "execute_result"
    }
   ],
   "source": [
    "y = 2*X+1+e\n",
    "y"
   ]
  },
  {
   "cell_type": "code",
   "execution_count": 6,
   "metadata": {},
   "outputs": [
    {
     "data": {
      "image/png": "[encoded data removed]",
      "text/plain": [
       "<Figure size 432x288 with 1 Axes>"
      ]
     },
     "metadata": {
      "needs_background": "light"
     },
     "output_type": "display_data"
    }
   ],
   "source": [
    "plt.scatter(X,y);"
   ]
  },
  {
   "cell_type": "code",
   "execution_count": 7,
   "metadata": {},
   "outputs": [
    {
     "name": "stdout",
     "output_type": "stream",
     "text": [
      "Parameter containing:\n",
      "tensor([[0.1060]], requires_grad=True)\n",
      "Parameter containing:\n",
      "tensor([0.9638], requires_grad=True)\n"
     ]
    }
   ],
   "source": [
    "torch.manual_seed(59)\n",
    "\n",
    "model = nn.Linear(in_features=1, out_features=1)\n",
    "print(model.weight)\n",
    "print(model.bias)"
   ]
  },
  {
   "cell_type": "code",
   "execution_count": 8,
   "metadata": {},
   "outputs": [],
   "source": [
    "class Model(nn.Module):\n",
    "    \n",
    "    def __init__(self, in_features, out_features):\n",
    "        super().__init__()\n",
    "        self.linear = nn.Linear(in_features, out_features) # Linear means full connected dense layer\n",
    "    def forward(self, X):\n",
    "        y_pred = self.linear(X)\n",
    "        return y_pred"
   ]
  },
  {
   "cell_type": "code",
   "execution_count": 9,
   "metadata": {},
   "outputs": [
    {
     "name": "stdout",
     "output_type": "stream",
     "text": [
      "Parameter containing:\n",
      "tensor([[0.1060]], requires_grad=True)\n",
      "Parameter containing:\n",
      "tensor([0.9638], requires_grad=True)\n"
     ]
    }
   ],
   "source": [
    "torch.manual_seed(59)\n",
    "\n",
    "model = Model(in_features=1, out_features=1)\n",
    "print(model.linear.weight)\n",
    "print(model.linear.bias)"
   ]
  },
  {
   "cell_type": "markdown",
   "metadata": {},
   "source": [
    "# Printing Model Param"
   ]
  },
  {
   "cell_type": "code",
   "execution_count": 10,
   "metadata": {},
   "outputs": [
    {
     "name": "stdout",
     "output_type": "stream",
     "text": [
      "linear.weight \t 0.10597813129425049\n",
      "linear.bias \t 0.9637961387634277\n"
     ]
    }
   ],
   "source": [
    "for name, param in model.named_parameters():\n",
    "    print(name, '\\t', param.item())"
   ]
  },
  {
   "cell_type": "markdown",
   "metadata": {},
   "source": [
    "# Prediction for new data"
   ]
  },
  {
   "cell_type": "code",
   "execution_count": 11,
   "metadata": {},
   "outputs": [
    {
     "data": {
      "text/plain": [
       "tensor([2.])"
      ]
     },
     "execution_count": 11,
     "metadata": {},
     "output_type": "execute_result"
    }
   ],
   "source": [
    "x = torch.tensor([2], dtype = torch.float32)\n",
    "x"
   ]
  },
  {
   "cell_type": "code",
   "execution_count": 12,
   "metadata": {},
   "outputs": [
    {
     "name": "stdout",
     "output_type": "stream",
     "text": [
      "tensor([1.1758], grad_fn=<AddBackward0>)\n"
     ]
    }
   ],
   "source": [
    "print(model.forward(x))"
   ]
  },
  {
   "cell_type": "code",
   "execution_count": 13,
   "metadata": {},
   "outputs": [
    {
     "data": {
      "text/plain": [
       "1.1757524013519287"
      ]
     },
     "execution_count": 13,
     "metadata": {},
     "output_type": "execute_result"
    }
   ],
   "source": [
    "0.10597813129425049 * 2.0 + 0.9637961387634277\n"
   ]
  },
  {
   "cell_type": "code",
   "execution_count": 14,
   "metadata": {},
   "outputs": [
    {
     "data": {
      "text/plain": [
       "tensor([[1.1758]], grad_fn=<AddBackward0>)"
      ]
     },
     "execution_count": 14,
     "metadata": {},
     "output_type": "execute_result"
    }
   ],
   "source": [
    "model.linear.weight * 2.0 + model.linear.bias"
   ]
  },
  {
   "cell_type": "code",
   "execution_count": null,
   "metadata": {},
   "outputs": [],
   "source": []
  },
  {
   "cell_type": "code",
   "execution_count": 15,
   "metadata": {},
   "outputs": [
    {
     "data": {
      "text/plain": [
       "tensor([[ 0.0000],\n",
       "        [ 1.0204],\n",
       "        [ 2.0408],\n",
       "        [ 3.0612],\n",
       "        [ 4.0816],\n",
       "        [ 5.1020],\n",
       "        [ 6.1224],\n",
       "        [ 7.1429],\n",
       "        [ 8.1633],\n",
       "        [ 9.1837],\n",
       "        [10.2041],\n",
       "        [11.2245],\n",
       "        [12.2449],\n",
       "        [13.2653],\n",
       "        [14.2857],\n",
       "        [15.3061],\n",
       "        [16.3265],\n",
       "        [17.3469],\n",
       "        [18.3673],\n",
       "        [19.3878],\n",
       "        [20.4082],\n",
       "        [21.4286],\n",
       "        [22.4490],\n",
       "        [23.4694],\n",
       "        [24.4898],\n",
       "        [25.5102],\n",
       "        [26.5306],\n",
       "        [27.5510],\n",
       "        [28.5714],\n",
       "        [29.5918],\n",
       "        [30.6122],\n",
       "        [31.6327],\n",
       "        [32.6531],\n",
       "        [33.6735],\n",
       "        [34.6939],\n",
       "        [35.7143],\n",
       "        [36.7347],\n",
       "        [37.7551],\n",
       "        [38.7755],\n",
       "        [39.7959],\n",
       "        [40.8163],\n",
       "        [41.8367],\n",
       "        [42.8571],\n",
       "        [43.8776],\n",
       "        [44.8980],\n",
       "        [45.9184],\n",
       "        [46.9388],\n",
       "        [47.9592],\n",
       "        [48.9796],\n",
       "        [50.0000]])"
      ]
     },
     "execution_count": 15,
     "metadata": {},
     "output_type": "execute_result"
    }
   ],
   "source": [
    "x1 = torch.linspace(0.0,50.0,50).reshape(-1,1)\n",
    "x1"
   ]
  },
  {
   "cell_type": "code",
   "execution_count": 16,
   "metadata": {},
   "outputs": [
    {
     "data": {
      "text/plain": [
       "tensor([[0.9638],\n",
       "        [1.0719],\n",
       "        [1.1801],\n",
       "        [1.2882],\n",
       "        [1.3964],\n",
       "        [1.5045],\n",
       "        [1.6126],\n",
       "        [1.7208],\n",
       "        [1.8289],\n",
       "        [1.9371],\n",
       "        [2.0452],\n",
       "        [2.1533],\n",
       "        [2.2615],\n",
       "        [2.3696],\n",
       "        [2.4778],\n",
       "        [2.5859],\n",
       "        [2.6941],\n",
       "        [2.8022],\n",
       "        [2.9103],\n",
       "        [3.0185],\n",
       "        [3.1266],\n",
       "        [3.2348],\n",
       "        [3.3429],\n",
       "        [3.4510],\n",
       "        [3.5592],\n",
       "        [3.6673],\n",
       "        [3.7755],\n",
       "        [3.8836],\n",
       "        [3.9917],\n",
       "        [4.0999],\n",
       "        [4.2080],\n",
       "        [4.3162],\n",
       "        [4.4243],\n",
       "        [4.5324],\n",
       "        [4.6406],\n",
       "        [4.7487],\n",
       "        [4.8569],\n",
       "        [4.9650],\n",
       "        [5.0732],\n",
       "        [5.1813],\n",
       "        [5.2894],\n",
       "        [5.3976],\n",
       "        [5.5057],\n",
       "        [5.6139],\n",
       "        [5.7220],\n",
       "        [5.8301],\n",
       "        [5.9383],\n",
       "        [6.0464],\n",
       "        [6.1546],\n",
       "        [6.2627]], grad_fn=<AddmmBackward>)"
      ]
     },
     "execution_count": 16,
     "metadata": {},
     "output_type": "execute_result"
    }
   ],
   "source": [
    "y_pred1 = model.forward(x1)\n",
    "y_pred1"
   ]
  },
  {
   "cell_type": "code",
   "execution_count": 17,
   "metadata": {},
   "outputs": [
    {
     "data": {
      "text/plain": [
       "<matplotlib.collections.PathCollection at 0x1bc8d4a0488>"
      ]
     },
     "execution_count": 17,
     "metadata": {},
     "output_type": "execute_result"
    },
    {
     "data": {
      "image/png": "[encoded data removed]",
      "text/plain": [
       "<Figure size 432x288 with 1 Axes>"
      ]
     },
     "metadata": {
      "needs_background": "light"
     },
     "output_type": "display_data"
    }
   ],
   "source": [
    "plt.scatter(X,y)\n",
    "plt.scatter(x1.detach().numpy(),y_pred1.detach().numpy(), c = 'r')"
   ]
  },
  {
   "cell_type": "markdown",
   "metadata": {},
   "source": [
    "1. All values of X are being passed one by one through the network \n",
    "2. On forward pass using random weights, some value of y gets predicted\n",
    "3. Loss gets calc and back prop is done\n",
    "4. The weights and bias are updated and then the next value of x is passed\n",
    "5. Now once all the vales are passed forward and backward 1 epoch gets completed\n",
    "6. Now the entire steps gets repetated for # of epochs"
   ]
  },
  {
   "cell_type": "code",
   "execution_count": 20,
   "metadata": {},
   "outputs": [
    {
     "name": "stdout",
     "output_type": "stream",
     "text": [
      "epoch 1 loss: 3057.216796875 weight: 0.10597813129425049  bias 0.9637961387634277\n",
      "epoch 2 loss: 1588.5311279296875 weight: 3.334900379180908  bias 1.0604636669158936\n",
      "epoch 3 loss: 830.2999877929688 weight: 1.0148327350616455  bias 0.9922628402709961\n",
      "epoch 4 loss: 438.8524169921875 weight: 2.6817996501922607  bias 1.0425218343734741\n",
      "epoch 5 loss: 236.7615203857422 weight: 1.4840211868286133  bias 1.0076650381088257\n",
      "epoch 6 loss: 132.4291229248047 weight: 2.3446059226989746  bias 1.0339646339416504\n",
      "epoch 7 loss: 78.56572723388672 weight: 1.7262253761291504  bias 1.0163217782974243\n",
      "epoch 8 loss: 50.75775909423828 weight: 2.170504093170166  bias 1.0302516222000122\n",
      "epoch 9 loss: 36.4012336730957 weight: 1.8512457609176636  bias 1.0214954614639282\n",
      "epoch 10 loss: 28.989229202270508 weight: 2.0806007385253906  bias 1.029038906097412\n",
      "epoch 11 loss: 25.162382125854492 weight: 1.9157683849334717  bias 1.0248701572418213\n",
      "epoch 12 loss: 23.186473846435547 weight: 2.034165620803833  bias 1.0291162729263306\n",
      "epoch 13 loss: 22.166126251220703 weight: 1.9490584135055542  bias 1.027315616607666\n",
      "epoch 14 loss: 21.639110565185547 weight: 2.010172128677368  bias 1.0298590660095215\n",
      "epoch 15 loss: 21.366771697998047 weight: 1.9662237167358398  bias 1.0292805433273315\n",
      "epoch 16 loss: 21.22591781616211 weight: 1.997764229774475  bias 1.030944585800171\n",
      "epoch 17 loss: 21.15294647216797 weight: 1.9750648736953735  bias 1.0309966802597046\n",
      "epoch 18 loss: 21.115009307861328 weight: 1.991337537765503  bias 1.032206416130066\n",
      "epoch 19 loss: 21.095176696777344 weight: 1.9796085357666016  bias 1.0325838327407837\n",
      "epoch 20 loss: 21.084684371948242 weight: 1.9879988431930542  bias 1.0335586071014404\n",
      "epoch 21 loss: 21.07901382446289 weight: 1.981933355331421  bias 1.034103512763977\n",
      "epoch 22 loss: 21.075830459594727 weight: 1.9862544536590576  bias 1.034956693649292\n",
      "epoch 23 loss: 21.073938369750977 weight: 1.9831126928329468  bias 1.0355877876281738\n",
      "epoch 24 loss: 21.07270050048828 weight: 1.9853330850601196  bias 1.0363779067993164\n",
      "epoch 25 loss: 21.071819305419922 weight: 1.9837009906768799  bias 1.037053108215332\n",
      "epoch 26 loss: 21.07110595703125 weight: 1.9848365783691406  bias 1.037810206413269\n",
      "epoch 27 loss: 21.070486068725586 weight: 1.9839837551116943  bias 1.0385079383850098\n",
      "epoch 28 loss: 21.069913864135742 weight: 1.9845597743988037  bias 1.039247751235962\n",
      "epoch 29 loss: 21.069368362426758 weight: 1.9841090440750122  bias 1.0399566888809204\n",
      "epoch 30 loss: 21.068838119506836 weight: 1.9843961000442505  bias 1.0406872034072876\n",
      "epoch 31 loss: 21.068307876586914 weight: 1.984152913093567  bias 1.0414016246795654\n",
      "epoch 32 loss: 21.067781448364258 weight: 1.9842908382415771  bias 1.042127013206482\n",
      "epoch 33 loss: 21.0672607421875 weight: 1.9841549396514893  bias 1.0428439378738403\n",
      "epoch 34 loss: 21.066740036010742 weight: 1.9842157363891602  bias 1.043566346168518\n",
      "epoch 35 loss: 21.066225051879883 weight: 1.9841355085372925  bias 1.0442842245101929\n",
      "epoch 36 loss: 21.06570816040039 weight: 1.9841564893722534  bias 1.0450047254562378\n",
      "epoch 37 loss: 21.065187454223633 weight: 1.9841045141220093  bias 1.0457227230072021\n",
      "epoch 38 loss: 21.064668655395508 weight: 1.9841052293777466  bias 1.046441912651062\n",
      "epoch 39 loss: 21.064157485961914 weight: 1.9840680360794067  bias 1.0471596717834473\n",
      "epoch 40 loss: 21.063636779785156 weight: 1.984058141708374  bias 1.0478779077529907\n",
      "epoch 41 loss: 21.063125610351562 weight: 1.984028697013855  bias 1.0485951900482178\n",
      "epoch 42 loss: 21.062606811523438 weight: 1.9840131998062134  bias 1.0493125915527344\n",
      "epoch 43 loss: 21.062095642089844 weight: 1.98398756980896  bias 1.0500292778015137\n",
      "epoch 44 loss: 21.06157684326172 weight: 1.9839695692062378  bias 1.0507458448410034\n",
      "epoch 45 loss: 21.06106948852539 weight: 1.9839458465576172  bias 1.051461935043335\n",
      "epoch 46 loss: 21.06055450439453 weight: 1.9839262962341309  bias 1.0521777868270874\n",
      "epoch 47 loss: 21.060043334960938 weight: 1.9839037656784058  bias 1.0528931617736816\n",
      "epoch 48 loss: 21.059532165527344 weight: 1.9838833808898926  bias 1.0536082983016968\n",
      "epoch 49 loss: 21.05901336669922 weight: 1.9838614463806152  bias 1.0543230772018433\n",
      "epoch 50 loss: 21.058509826660156 weight: 1.9838409423828125  bias 1.055037498474121\n"
     ]
    }
   ],
   "source": [
    "criterion = nn.MSELoss()\n",
    "optimizer = torch.optim.SGD(params=model.parameters(), lr = 1e-3)\n",
    "epochs = 50\n",
    "losses = []\n",
    "for i in range(epochs):\n",
    "    i = i+1\n",
    "    y_pred = model.forward(X) # prep on forward pass\n",
    "    loss = criterion(y_pred,y) # calc loss\n",
    "    losses.append(loss) # record loss\n",
    "    print(f\"epoch {i} loss: {loss.item()} weight: {model.linear.weight.item()}  bias {model.linear.bias.item()}\")\n",
    "    optimizer.zero_grad() # reset grad to prevent accumulation after every epoch as the grad value gets compounded \n",
    "    loss.backward() # perform back prop\n",
    "    optimizer.step() # this updates the params"
   ]
  },
  {
   "cell_type": "code",
   "execution_count": 23,
   "metadata": {},
   "outputs": [
    {
     "data": {
      "text/plain": [
       "Text(0, 0.5, 'MSE Loss')"
      ]
     },
     "execution_count": 23,
     "metadata": {},
     "output_type": "execute_result"
    },
    {
     "data": {
      "image/png": "[encoded data removed]",
      "text/plain": [
       "<Figure size 432x288 with 1 Axes>"
      ]
     },
     "metadata": {
      "needs_background": "light"
     },
     "output_type": "display_data"
    }
   ],
   "source": [
    "plt.plot(range(epochs), losses)\n",
    "plt.xlabel('Epochs')\n",
    "plt.ylabel('MSE Loss')"
   ]
  },
  {
   "cell_type": "code",
   "execution_count": 26,
   "metadata": {},
   "outputs": [],
   "source": [
    "weights = model.linear.weight.item()\n",
    "bias = model.linear.bias.item()\n",
    "x_ukn = torch.linspace(0.0,50.0,50)\n",
    "y_pred = weights*x_ukn+bias"
   ]
  },
  {
   "cell_type": "code",
   "execution_count": 28,
   "metadata": {},
   "outputs": [
    {
     "data": {
      "text/plain": [
       "<matplotlib.collections.PathCollection at 0x1bc8ebacbc8>"
      ]
     },
     "execution_count": 28,
     "metadata": {},
     "output_type": "execute_result"
    },
    {
     "data": {
      "image/png": "[encoded data removed]",
      "text/plain": [
       "<Figure size 432x288 with 1 Axes>"
      ]
     },
     "metadata": {
      "needs_background": "light"
     },
     "output_type": "display_data"
    }
   ],
   "source": [
    "plt.scatter(X,y)\n",
    "plt.scatter(x_ukn,y_pred)"
   ]
  }
 ],
 "metadata": {
  "kernelspec": {
   "display_name": "Python 3",
   "language": "python",
   "name": "python3"
  },
  "language_info": {
   "codemirror_mode": {
    "name": "ipython",
    "version": 3
   },
   "file_extension": ".py",
   "mimetype": "text/x-python",
   "name": "python",
   "nbconvert_exporter": "python",
   "pygments_lexer": "ipython3",
   "version": "3.7.9"
  }
 },
 "nbformat": 4,
 "nbformat_minor": 4
}
