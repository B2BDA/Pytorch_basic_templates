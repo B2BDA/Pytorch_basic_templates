{
 "cells": [
  {
   "cell_type": "code",
   "execution_count": 1,
   "metadata": {},
   "outputs": [],
   "source": [
    "import torch\n",
    "import torch.nn as nn\n",
    "import torch.nn.functional as F"
   ]
  },
  {
   "cell_type": "raw",
   "metadata": {},
   "source": [
    "Why nn.Module?\n",
    "All network components should inherit from nn.Module and override the forward() method. That is about it, as far as the boilerplate is concerned. Inheriting from nn.Module provides functionality to your component. For example, it makes it keep track of its trainable parameters, you can swap it between CPU and GPU with the .to(device) method, where device can be a CPU device torch.device(\"cpu\") or CUDA device torch.device(\"cuda:0\")."
   ]
  },
  {
   "cell_type": "code",
   "execution_count": 2,
   "metadata": {},
   "outputs": [],
   "source": [
    "class Model(nn.Module):\n",
    "    \n",
    "    def __init__(self, in_feature = 4, out_freature = 3, hidden_layer_1 = 8, hidden_layer_2 = 9):\n",
    "        super().__init__()\n",
    "        # here we define how many layers we want\n",
    "        self.fc1 = nn.Linear(in_feature, hidden_layer_1)\n",
    "        self.fc2 = nn.Linear(hidden_layer_1, hidden_layer_2)\n",
    "        self.out = nn.Linear(hidden_layer_2, out_freature)\n",
    "    def forward(self, X):\n",
    "        x = F.relu(self.fc1(X))\n",
    "        x = F.relu(self.fc2(x))\n",
    "        y = self.out(x)\n",
    "        \n",
    "        return y"
   ]
  },
  {
   "cell_type": "code",
   "execution_count": 3,
   "metadata": {},
   "outputs": [],
   "source": [
    "torch.manual_seed(32)\n",
    "model = Model()"
   ]
  },
  {
   "cell_type": "code",
   "execution_count": 4,
   "metadata": {},
   "outputs": [],
   "source": [
    "import pandas as pd\n",
    "from sklearn.model_selection import train_test_split\n"
   ]
  },
  {
   "cell_type": "code",
   "execution_count": 5,
   "metadata": {},
   "outputs": [],
   "source": [
    "df = pd.read_csv(r\"D:\\PyTorch for Deep Learning with Python Bootcamp\\1. Course Overview, Installs, and Setup\\PYTORCH_NOTEBOOKS\\Data\\iris.csv\")"
   ]
  },
  {
   "cell_type": "code",
   "execution_count": 6,
   "metadata": {},
   "outputs": [],
   "source": [
    "X = df.drop('target',axis=1).values\n",
    "y = df['target'].values\n",
    "\n",
    "X_train, X_test, y_train, y_test = train_test_split(X,y,test_size=0.2,random_state=33)\n",
    "\n",
    "X_train = torch.FloatTensor(X_train)\n",
    "X_test = torch.FloatTensor(X_test)\n",
    "# y_train = F.one_hot(torch.LongTensor(y_train))  # not needed with Cross Entropy Loss\n",
    "# y_test = F.one_hot(torch.LongTensor(y_test))\n",
    "y_train = torch.LongTensor(y_train)\n",
    "y_test = torch.LongTensor(y_test)"
   ]
  },
  {
   "cell_type": "code",
   "execution_count": 11,
   "metadata": {},
   "outputs": [
    {
     "name": "stdout",
     "output_type": "stream",
     "text": [
      "Epoch no 10 and loss is 0.9883411526679993\n",
      "Epoch no 20 and loss is 0.9638798832893372\n",
      "Epoch no 30 and loss is 0.9426462054252625\n",
      "Epoch no 40 and loss is 0.9217503666877747\n",
      "Epoch no 50 and loss is 0.9005038142204285\n",
      "Epoch no 60 and loss is 0.8788490295410156\n",
      "Epoch no 70 and loss is 0.8569406867027283\n",
      "Epoch no 80 and loss is 0.8350093960762024\n",
      "Epoch no 90 and loss is 0.8137052059173584\n",
      "Epoch no 100 and loss is 0.7931798696517944\n",
      "Epoch no 110 and loss is 0.7734243273735046\n",
      "Epoch no 120 and loss is 0.7547933459281921\n",
      "Epoch no 130 and loss is 0.7369310259819031\n",
      "Epoch no 140 and loss is 0.7194331288337708\n",
      "Epoch no 150 and loss is 0.7021202445030212\n",
      "Epoch no 160 and loss is 0.6847686171531677\n",
      "Epoch no 170 and loss is 0.6671631336212158\n",
      "Epoch no 180 and loss is 0.6492751836776733\n",
      "Epoch no 190 and loss is 0.6313667297363281\n",
      "Epoch no 200 and loss is 0.613212525844574\n",
      "Epoch no 210 and loss is 0.5948727130889893\n",
      "Epoch no 220 and loss is 0.576181173324585\n",
      "Epoch no 230 and loss is 0.5570691823959351\n",
      "Epoch no 240 and loss is 0.5375763773918152\n",
      "Epoch no 250 and loss is 0.5178092122077942\n",
      "Epoch no 260 and loss is 0.49783092737197876\n",
      "Epoch no 270 and loss is 0.47782379388809204\n",
      "Epoch no 280 and loss is 0.4580385088920593\n",
      "Epoch no 290 and loss is 0.4388580322265625\n",
      "Epoch no 300 and loss is 0.42081931233406067\n",
      "Epoch no 310 and loss is 0.40404751896858215\n",
      "Epoch no 320 and loss is 0.38850852847099304\n",
      "Epoch no 330 and loss is 0.37402263283729553\n",
      "Epoch no 340 and loss is 0.360564261674881\n",
      "Epoch no 350 and loss is 0.3480793833732605\n",
      "Epoch no 360 and loss is 0.33651235699653625\n",
      "Epoch no 370 and loss is 0.3258036971092224\n",
      "Epoch no 380 and loss is 0.3158773183822632\n",
      "Epoch no 390 and loss is 0.306660532951355\n",
      "Epoch no 400 and loss is 0.2981019616127014\n",
      "Epoch no 410 and loss is 0.2901339828968048\n",
      "Epoch no 420 and loss is 0.2827033996582031\n",
      "Epoch no 430 and loss is 0.27574053406715393\n",
      "Epoch no 440 and loss is 0.2691771388053894\n",
      "Epoch no 450 and loss is 0.2629740834236145\n",
      "Epoch no 460 and loss is 0.2571563124656677\n",
      "Epoch no 470 and loss is 0.25166550278663635\n",
      "Epoch no 480 and loss is 0.2464824765920639\n",
      "Epoch no 490 and loss is 0.24157364666461945\n",
      "Epoch no 500 and loss is 0.23693107068538666\n",
      "Epoch no 510 and loss is 0.2325189858675003\n",
      "Epoch no 520 and loss is 0.22832566499710083\n",
      "Epoch no 530 and loss is 0.22432464361190796\n",
      "Epoch no 540 and loss is 0.22049322724342346\n",
      "Epoch no 550 and loss is 0.21682684123516083\n",
      "Epoch no 560 and loss is 0.21329644322395325\n",
      "Epoch no 570 and loss is 0.20992250740528107\n",
      "Epoch no 580 and loss is 0.20667767524719238\n",
      "Epoch no 590 and loss is 0.20355507731437683\n",
      "Epoch no 600 and loss is 0.20055827498435974\n",
      "Epoch no 610 and loss is 0.19767144322395325\n",
      "Epoch no 620 and loss is 0.19488605856895447\n",
      "Epoch no 630 and loss is 0.1921958476305008\n",
      "Epoch no 640 and loss is 0.18960170447826385\n",
      "Epoch no 650 and loss is 0.18708835542201996\n",
      "Epoch no 660 and loss is 0.18465584516525269\n",
      "Epoch no 670 and loss is 0.18229874968528748\n",
      "Epoch no 680 and loss is 0.18001484870910645\n",
      "Epoch no 690 and loss is 0.17779870331287384\n",
      "Epoch no 700 and loss is 0.17564432322978973\n",
      "Epoch no 710 and loss is 0.1735529601573944\n",
      "Epoch no 720 and loss is 0.17152062058448792\n",
      "Epoch no 730 and loss is 0.16953863203525543\n",
      "Epoch no 740 and loss is 0.16761113703250885\n",
      "Epoch no 750 and loss is 0.16573335230350494\n",
      "Epoch no 760 and loss is 0.16390377283096313\n",
      "Epoch no 770 and loss is 0.16212083399295807\n",
      "Epoch no 780 and loss is 0.16037775576114655\n",
      "Epoch no 790 and loss is 0.15867702662944794\n",
      "Epoch no 800 and loss is 0.157014861702919\n",
      "Epoch no 810 and loss is 0.15539075434207916\n",
      "Epoch no 820 and loss is 0.15380318462848663\n",
      "Epoch no 830 and loss is 0.152248814702034\n",
      "Epoch no 840 and loss is 0.1507289856672287\n",
      "Epoch no 850 and loss is 0.14924344420433044\n",
      "Epoch no 860 and loss is 0.14778706431388855\n",
      "Epoch no 870 and loss is 0.1463613659143448\n",
      "Epoch no 880 and loss is 0.14496643841266632\n",
      "Epoch no 890 and loss is 0.14359909296035767\n",
      "Epoch no 900 and loss is 0.142259418964386\n",
      "Epoch no 910 and loss is 0.14094649255275726\n",
      "Epoch no 920 and loss is 0.1396593302488327\n",
      "Epoch no 930 and loss is 0.13839693367481232\n",
      "Epoch no 940 and loss is 0.13715936243534088\n",
      "Epoch no 950 and loss is 0.13594865798950195\n",
      "Epoch no 960 and loss is 0.13475850224494934\n",
      "Epoch no 970 and loss is 0.13359199464321136\n",
      "Epoch no 980 and loss is 0.13244669139385223\n",
      "Epoch no 990 and loss is 0.13132447004318237\n",
      "Epoch no 1000 and loss is 0.13022038340568542\n"
     ]
    }
   ],
   "source": [
    "epochs = 1000\n",
    "losses = []\n",
    "criterion = nn.CrossEntropyLoss()\n",
    "optimizer = torch.optim.Adam(params=model.parameters(), lr = 1e-3)\n",
    "for i in range(epochs):\n",
    "    i = i+1\n",
    "    # feed forward and get prediction\n",
    "    y_pred = model.forward(X_train)\n",
    "    # calc the loss\n",
    "    loss = criterion(y_pred, y_train)\n",
    "    losses.append(loss)\n",
    "    \n",
    "    if i%10 == 0:\n",
    "        print(f'Epoch no {i} and loss is {loss}')\n",
    "        \n",
    "    # back prop\n",
    "    optimizer.zero_grad() # reset grad after every epochs\n",
    "    loss.backward() # 1st order diff\n",
    "    optimizer.step() # update params"
   ]
  },
  {
   "cell_type": "code",
   "execution_count": 12,
   "metadata": {},
   "outputs": [],
   "source": [
    "import matplotlib.pyplot as plt"
   ]
  },
  {
   "cell_type": "code",
   "execution_count": 13,
   "metadata": {},
   "outputs": [
    {
     "data": {
      "image/png": "[encoded data removed]",
      "text/plain": [
       "<Figure size 432x288 with 1 Axes>"
      ]
     },
     "metadata": {
      "needs_background": "light"
     },
     "output_type": "display_data"
    }
   ],
   "source": [
    "plt.plot(range(epochs), losses)\n",
    "plt.ylabel('Loss')\n",
    "plt.xlabel('epoch');"
   ]
  },
  {
   "cell_type": "code",
   "execution_count": null,
   "metadata": {},
   "outputs": [],
   "source": []
  }
 ],
 "metadata": {
  "kernelspec": {
   "display_name": "Python 3",
   "language": "python",
   "name": "python3"
  },
  "language_info": {
   "codemirror_mode": {
    "name": "ipython",
    "version": 3
   },
   "file_extension": ".py",
   "mimetype": "text/x-python",
   "name": "python",
   "nbconvert_exporter": "python",
   "pygments_lexer": "ipython3",
   "version": "3.7.9"
  }
 },
 "nbformat": 4,
 "nbformat_minor": 4
}
