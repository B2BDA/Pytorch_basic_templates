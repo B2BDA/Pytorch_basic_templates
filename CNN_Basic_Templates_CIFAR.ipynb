{
 "cells": [
  {
   "cell_type": "code",
   "execution_count": 1,
   "metadata": {},
   "outputs": [],
   "source": [
    "import torch\n",
    "import torch.nn as nn\n",
    "import torch.nn.functional as F\n",
    "from torch.utils.data import DataLoader\n",
    "from torchvision import datasets, transforms\n",
    "import numpy as np\n",
    "import matplotlib.pyplot as plt\n",
    "import seaborn as sns\n",
    "from sklearn.metrics import confusion_matrix\n",
    "%matplotlib inline"
   ]
  },
  {
   "cell_type": "code",
   "execution_count": 2,
   "metadata": {},
   "outputs": [],
   "source": [
    "transform = transforms.ToTensor()"
   ]
  },
  {
   "cell_type": "code",
   "execution_count": 3,
   "metadata": {},
   "outputs": [
    {
     "data": {
      "text/plain": [
       "'D:\\\\B2B_Git_Instance\\\\Pytorch_basic_templates'"
      ]
     },
     "execution_count": 3,
     "metadata": {},
     "output_type": "execute_result"
    }
   ],
   "source": [
    "import os\n",
    "os.getcwd()"
   ]
  },
  {
   "cell_type": "code",
   "execution_count": 4,
   "metadata": {},
   "outputs": [
    {
     "name": "stdout",
     "output_type": "stream",
     "text": [
      "Files already downloaded and verified\n"
     ]
    }
   ],
   "source": [
    "train = datasets.CIFAR10(root = os.getcwd(),train = True, download = True, transform = transform )"
   ]
  },
  {
   "cell_type": "code",
   "execution_count": 5,
   "metadata": {},
   "outputs": [
    {
     "name": "stdout",
     "output_type": "stream",
     "text": [
      "Files already downloaded and verified\n"
     ]
    }
   ],
   "source": [
    "test = datasets.CIFAR10(root = os.getcwd(),train = False, download = True, transform = transform )"
   ]
  },
  {
   "cell_type": "code",
   "execution_count": 6,
   "metadata": {},
   "outputs": [],
   "source": [
    "train_data = DataLoader(train, batch_size = 10, shuffle = True)\n",
    "test_data = DataLoader(test, batch_size = 10, shuffle = False)"
   ]
  },
  {
   "cell_type": "code",
   "execution_count": 7,
   "metadata": {},
   "outputs": [],
   "source": [
    "classes = ['plane','car','bird','cat','deer','dog','frog','horse','ship','truck']"
   ]
  },
  {
   "cell_type": "code",
   "execution_count": 8,
   "metadata": {},
   "outputs": [],
   "source": [
    "for img, lbl in train_data:\n",
    "    break"
   ]
  },
  {
   "cell_type": "code",
   "execution_count": 9,
   "metadata": {},
   "outputs": [
    {
     "name": "stdout",
     "output_type": "stream",
     "text": [
      "the img is deer \n"
     ]
    },
    {
     "data": {
      "text/plain": [
       "<matplotlib.image.AxesImage at 0x2765ca8ac40>"
      ]
     },
     "execution_count": 9,
     "metadata": {},
     "output_type": "execute_result"
    },
    {
     "data": {
      "image/png": "[encoded data removed]",
      "text/plain": [
       "<Figure size 432x288 with 1 Axes>"
      ]
     },
     "metadata": {
      "needs_background": "light"
     },
     "output_type": "display_data"
    }
   ],
   "source": [
    "data_point = 9\n",
    "print(f\"the img is {classes[lbl[data_point]]} \")\n",
    "plt.imshow(img[data_point].numpy().reshape((32,32,-1)))"
   ]
  },
  {
   "cell_type": "code",
   "execution_count": 10,
   "metadata": {},
   "outputs": [],
   "source": [
    "class CNN(nn.Module):\n",
    "    def __init__(self):\n",
    "        super().__init__()\n",
    "        self.conv1 = nn.Conv2d(in_channels=3, out_channels=6, kernel_size=3, stride=1) #out_channel = no of filters, kernel_size = filter dim \n",
    "        self.conv2 = nn.Conv2d(in_channels=6, out_channels=16, kernel_size=3, stride=1)\n",
    "        self.fc1 = nn.Linear(6*6*16,120) # out_channels from conv1, in/out_channel from conv2\n",
    "        self.fc2 = nn.Linear(120,84)\n",
    "        self.fc3 = nn.Linear(84,10) # output as 10 classes\n",
    "        \n",
    "    def forward(self,X):\n",
    "        X = F.relu(self.conv1(X))\n",
    "        X = F.max_pool2d(X,2,2)\n",
    "        X = F.relu(self.conv2(X))\n",
    "        X = F.max_pool2d(X,2,2)\n",
    "        X = X.view(-1,16*6*6)\n",
    "        X = F.relu(self.fc1(X))\n",
    "        X = F.relu(self.fc2(X))\n",
    "        X = self.fc3(X)\n",
    "        return F.log_softmax(X, dim = 1)"
   ]
  },
  {
   "cell_type": "code",
   "execution_count": 11,
   "metadata": {},
   "outputs": [
    {
     "data": {
      "text/plain": [
       "6"
      ]
     },
     "execution_count": 11,
     "metadata": {},
     "output_type": "execute_result"
    }
   ],
   "source": [
    "(((((((((32-3)+1)-2)//2)+1)-3)+1)-2)//2)+1"
   ]
  },
  {
   "cell_type": "code",
   "execution_count": 12,
   "metadata": {},
   "outputs": [
    {
     "data": {
      "text/plain": [
       "CNN(\n",
       "  (conv1): Conv2d(3, 6, kernel_size=(3, 3), stride=(1, 1))\n",
       "  (conv2): Conv2d(6, 16, kernel_size=(3, 3), stride=(1, 1))\n",
       "  (fc1): Linear(in_features=576, out_features=120, bias=True)\n",
       "  (fc2): Linear(in_features=120, out_features=84, bias=True)\n",
       "  (fc3): Linear(in_features=84, out_features=10, bias=True)\n",
       ")"
      ]
     },
     "execution_count": 12,
     "metadata": {},
     "output_type": "execute_result"
    }
   ],
   "source": [
    "model = CNN()\n",
    "model"
   ]
  },
  {
   "cell_type": "code",
   "execution_count": 13,
   "metadata": {},
   "outputs": [
    {
     "name": "stdout",
     "output_type": "stream",
     "text": [
      "162\n",
      "6\n",
      "864\n",
      "16\n",
      "69120\n",
      "120\n",
      "10080\n",
      "84\n",
      "840\n",
      "10\n"
     ]
    }
   ],
   "source": [
    "for param in model.parameters():\n",
    "\n",
    "    print(param.numel())"
   ]
  },
  {
   "cell_type": "code",
   "execution_count": 14,
   "metadata": {},
   "outputs": [],
   "source": [
    "loss = nn.CrossEntropyLoss()\n",
    "optimizer = torch.optim.Adam(params=model.parameters(),lr=1e-3)\n"
   ]
  },
  {
   "cell_type": "code",
   "execution_count": 25,
   "metadata": {},
   "outputs": [
    {
     "name": "stdout",
     "output_type": "stream",
     "text": [
      "Epoch 0 batch 600 and loss 0.5738364458084106 and accuracy is 76.11666666666666%\n",
      "Epoch 0 batch 1200 and loss 0.49709635972976685 and accuracy is 75.6%\n",
      "Epoch 0 batch 1800 and loss 1.4549531936645508 and accuracy is 75.15555555555555%\n",
      "Epoch 0 batch 2400 and loss 0.46695947647094727 and accuracy is 74.96666666666667%\n",
      "Epoch 0 batch 3000 and loss 0.9463098645210266 and accuracy is 74.76666666666667%\n",
      "Epoch 0 batch 3600 and loss 0.7033579349517822 and accuracy is 74.53055555555555%\n",
      "Epoch 0 batch 4200 and loss 1.0119003057479858 and accuracy is 74.52619047619048%\n",
      "Epoch 0 batch 4800 and loss 0.5636828541755676 and accuracy is 74.36666666666666%\n",
      "Epoch 1 batch 600 and loss 0.9222992062568665 and accuracy is 76.86666666666666%\n",
      "Epoch 1 batch 1200 and loss 0.723483681678772 and accuracy is 76.225%\n",
      "Epoch 1 batch 1800 and loss 0.3284127116203308 and accuracy is 76.18333333333334%\n",
      "Epoch 1 batch 2400 and loss 0.3589937686920166 and accuracy is 76.1375%\n",
      "Epoch 1 batch 3000 and loss 0.3466499447822571 and accuracy is 75.94333333333333%\n",
      "Epoch 1 batch 3600 and loss 1.5578609704971313 and accuracy is 75.70833333333333%\n",
      "Epoch 1 batch 4200 and loss 1.3772804737091064 and accuracy is 75.42857142857143%\n",
      "Epoch 1 batch 4800 and loss 0.5985611081123352 and accuracy is 75.21666666666667%\n",
      "Epoch 2 batch 600 and loss 1.0091087818145752 and accuracy is 77.45%\n",
      "Epoch 2 batch 1200 and loss 1.3445024490356445 and accuracy is 76.74166666666666%\n",
      "Epoch 2 batch 1800 and loss 0.8895164728164673 and accuracy is 76.31666666666666%\n",
      "Epoch 2 batch 2400 and loss 0.8991896510124207 and accuracy is 76.23333333333333%\n",
      "Epoch 2 batch 3000 and loss 0.7817648649215698 and accuracy is 75.88%\n",
      "Epoch 2 batch 3600 and loss 1.1798417568206787 and accuracy is 75.62222222222222%\n",
      "Epoch 2 batch 4200 and loss 0.31150203943252563 and accuracy is 75.5952380952381%\n",
      "Epoch 2 batch 4800 and loss 0.3694579005241394 and accuracy is 75.44375%\n",
      "Epoch 3 batch 600 and loss 0.6478651165962219 and accuracy is 77.73333333333333%\n",
      "Epoch 3 batch 1200 and loss 0.6241398453712463 and accuracy is 76.7%\n",
      "Epoch 3 batch 1800 and loss 0.4858250617980957 and accuracy is 76.77777777777777%\n",
      "Epoch 3 batch 2400 and loss 1.0258898735046387 and accuracy is 76.575%\n",
      "Epoch 3 batch 3000 and loss 0.42617282271385193 and accuracy is 76.42333333333333%\n",
      "Epoch 3 batch 3600 and loss 1.183054804801941 and accuracy is 76.08611111111111%\n",
      "Epoch 3 batch 4200 and loss 0.4857264459133148 and accuracy is 75.93095238095238%\n",
      "Epoch 3 batch 4800 and loss 0.8654465675354004 and accuracy is 75.82083333333334%\n",
      "Epoch 4 batch 600 and loss 0.2529650330543518 and accuracy is 78.4%\n",
      "Epoch 4 batch 1200 and loss 0.5308325886726379 and accuracy is 78.08333333333333%\n",
      "Epoch 4 batch 1800 and loss 0.3806782364845276 and accuracy is 77.95555555555555%\n",
      "Epoch 4 batch 2400 and loss 0.6685311198234558 and accuracy is 77.47083333333333%\n",
      "Epoch 4 batch 3000 and loss 0.2217094600200653 and accuracy is 77.08%\n",
      "Epoch 4 batch 3600 and loss 0.7730766534805298 and accuracy is 76.76666666666667%\n",
      "Epoch 4 batch 4200 and loss 1.4347450733184814 and accuracy is 76.59285714285714%\n",
      "Epoch 4 batch 4800 and loss 0.7555707693099976 and accuracy is 76.5125%\n",
      "Epoch 5 batch 600 and loss 0.4544619619846344 and accuracy is 78.65%\n",
      "Epoch 5 batch 1200 and loss 1.3439079523086548 and accuracy is 78.0%\n",
      "Epoch 5 batch 1800 and loss 0.2999025285243988 and accuracy is 77.62222222222222%\n",
      "Epoch 5 batch 2400 and loss 0.5601717233657837 and accuracy is 77.49166666666666%\n",
      "Epoch 5 batch 3000 and loss 0.1931036412715912 and accuracy is 77.27333333333333%\n",
      "Epoch 5 batch 3600 and loss 1.376792550086975 and accuracy is 77.06388888888888%\n",
      "Epoch 5 batch 4200 and loss 0.6048542261123657 and accuracy is 76.84285714285714%\n",
      "Epoch 5 batch 4800 and loss 0.4249595105648041 and accuracy is 76.72916666666667%\n",
      "Epoch 6 batch 600 and loss 0.35915571451187134 and accuracy is 80.36666666666666%\n",
      "Epoch 6 batch 1200 and loss 0.5062292814254761 and accuracy is 78.95%\n",
      "Epoch 6 batch 1800 and loss 0.4581097662448883 and accuracy is 78.45%\n",
      "Epoch 6 batch 2400 and loss 0.6634875535964966 and accuracy is 78.38333333333334%\n",
      "Epoch 6 batch 3000 and loss 0.6988414525985718 and accuracy is 77.82333333333334%\n",
      "Epoch 6 batch 3600 and loss 0.4077530801296234 and accuracy is 77.71944444444445%\n",
      "Epoch 6 batch 4200 and loss 1.963442087173462 and accuracy is 77.49761904761905%\n",
      "Epoch 6 batch 4800 and loss 1.131719708442688 and accuracy is 77.2875%\n",
      "Epoch 7 batch 600 and loss 0.25854066014289856 and accuracy is 78.98333333333333%\n",
      "Epoch 7 batch 1200 and loss 0.35561132431030273 and accuracy is 79.175%\n",
      "Epoch 7 batch 1800 and loss 0.994274914264679 and accuracy is 78.50555555555556%\n",
      "Epoch 7 batch 2400 and loss 0.74040687084198 and accuracy is 78.34583333333333%\n",
      "Epoch 7 batch 3000 and loss 0.5174093246459961 and accuracy is 78.23%\n",
      "Epoch 7 batch 3600 and loss 1.106377363204956 and accuracy is 78.12777777777778%\n",
      "Epoch 7 batch 4200 and loss 0.250100314617157 and accuracy is 77.9452380952381%\n",
      "Epoch 7 batch 4800 and loss 0.9741311073303223 and accuracy is 77.74583333333334%\n",
      "Epoch 8 batch 600 and loss 0.9987996816635132 and accuracy is 80.0%\n",
      "Epoch 8 batch 1200 and loss 0.44725698232650757 and accuracy is 79.69166666666666%\n",
      "Epoch 8 batch 1800 and loss 0.2767190933227539 and accuracy is 79.33333333333333%\n",
      "Epoch 8 batch 2400 and loss 0.1074693351984024 and accuracy is 78.90416666666667%\n",
      "Epoch 8 batch 3000 and loss 0.5335433483123779 and accuracy is 78.65%\n",
      "Epoch 8 batch 3600 and loss 0.7565633654594421 and accuracy is 78.52777777777777%\n",
      "Epoch 8 batch 4200 and loss 0.13936185836791992 and accuracy is 78.35238095238095%\n",
      "Epoch 8 batch 4800 and loss 0.2664030194282532 and accuracy is 78.1375%\n",
      "Epoch 9 batch 600 and loss 0.46342867612838745 and accuracy is 81.1%\n",
      "Epoch 9 batch 1200 and loss 0.8753488659858704 and accuracy is 79.93333333333334%\n",
      "Epoch 9 batch 1800 and loss 0.6021766662597656 and accuracy is 79.67222222222222%\n",
      "Epoch 9 batch 2400 and loss 0.4342110753059387 and accuracy is 79.29166666666667%\n",
      "Epoch 9 batch 3000 and loss 0.19953222572803497 and accuracy is 78.98333333333333%\n",
      "Epoch 9 batch 3600 and loss 0.4064043164253235 and accuracy is 78.825%\n",
      "Epoch 9 batch 4200 and loss 0.6924089193344116 and accuracy is 78.6047619047619%\n",
      "Epoch 9 batch 4800 and loss 0.7645655870437622 and accuracy is 78.4%\n"
     ]
    }
   ],
   "source": [
    "epochs = 10\n",
    "train_loss = []\n",
    "test_loss = []\n",
    "train_correct = []\n",
    "test_correct = []\n",
    "\n",
    "for i in range(epochs):\n",
    "    trn_corr = 0\n",
    "    test_corr = 0\n",
    "    \n",
    "    \n",
    "    for batch, (X_train, y_train) in enumerate(train_data):\n",
    "        batch = batch+1\n",
    "        y_pred = model(X_train)\n",
    "        losses = loss(y_pred,y_train)\n",
    "        pred = torch.max(y_pred.data,1)[1]\n",
    "        \n",
    "        batch_corr = (pred == y_train).sum() # True 1 / False 0\n",
    "        \n",
    "        trn_corr = trn_corr+batch_corr\n",
    "         \n",
    "        optimizer.zero_grad()\n",
    "        losses.backward()\n",
    "        optimizer.step()\n",
    "        \n",
    "        if batch%600 == 0:\n",
    "            print(f'Epoch {i} batch {batch} and loss {losses} and accuracy is {trn_corr.item()*100/(10*batch)}%')\n",
    "    train_loss.append(losses)\n",
    "    train_correct.append(trn_corr)\n",
    "    \n",
    "    with torch.no_grad():\n",
    "        for batch, (X_test, y_test) in enumerate(test_data):\n",
    "            y_val = model(X_test)\n",
    "            \n",
    "            predicted = torch.max(y_val.data,1)[1]\n",
    "            \n",
    "            test_corr = test_corr + (predicted == y_test).sum()\n",
    "        losses = loss(y_val, y_test)\n",
    "        test_loss.append(losses)\n",
    "        test_correct.append(test_corr)"
   ]
  },
  {
   "cell_type": "code",
   "execution_count": 26,
   "metadata": {},
   "outputs": [],
   "source": [
    "torch.save(model.state_dict(),'Cifar10.pt')"
   ]
  },
  {
   "cell_type": "code",
   "execution_count": 27,
   "metadata": {
    "scrolled": true
   },
   "outputs": [
    {
     "data": {
      "image/png": "[encoded data removed]",
      "text/plain": [
       "<Figure size 432x288 with 1 Axes>"
      ]
     },
     "metadata": {
      "needs_background": "light"
     },
     "output_type": "display_data"
    }
   ],
   "source": [
    "plt.plot(train_loss, label = 'train loss')\n",
    "plt.plot(test_loss, label = 'test loss')\n",
    "plt.title(\"Loss at end of each epoch\")\n",
    "plt.legend();"
   ]
  },
  {
   "cell_type": "code",
   "execution_count": null,
   "metadata": {},
   "outputs": [],
   "source": []
  }
 ],
 "metadata": {
  "kernelspec": {
   "display_name": "Python 3",
   "language": "python",
   "name": "python3"
  },
  "language_info": {
   "codemirror_mode": {
    "name": "ipython",
    "version": 3
   },
   "file_extension": ".py",
   "mimetype": "text/x-python",
   "name": "python",
   "nbconvert_exporter": "python",
   "pygments_lexer": "ipython3",
   "version": "3.8.5"
  }
 },
 "nbformat": 4,
 "nbformat_minor": 4
}
